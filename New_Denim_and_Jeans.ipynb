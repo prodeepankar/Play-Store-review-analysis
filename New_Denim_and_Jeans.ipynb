{
  "nbformat": 4,
  "nbformat_minor": 0,
  "metadata": {
    "colab": {
      "provenance": [],
      "mount_file_id": "1I4jJUBhSqRFJbIj3O0mrq5iiORpaBjPD",
      "authorship_tag": "ABX9TyOB5eai0JpLX4UdE4UXV/wV",
      "include_colab_link": true
    },
    "kernelspec": {
      "name": "python3",
      "display_name": "Python 3"
    },
    "language_info": {
      "name": "python"
    }
  },
  "cells": [
    {
      "cell_type": "markdown",
      "metadata": {
        "id": "view-in-github",
        "colab_type": "text"
      },
      "source": [
        "<a href=\"https://colab.research.google.com/github/prodeepankar/Play-Store-review-analysis/blob/main/New_Denim_and_Jeans.ipynb\" target=\"_parent\"><img src=\"https://colab.research.google.com/assets/colab-badge.svg\" alt=\"Open In Colab\"/></a>"
      ]
    },
    {
      "cell_type": "code",
      "execution_count": 306,
      "metadata": {
        "id": "DgAIgfplFwDX",
        "colab": {
          "base_uri": "https://localhost:8080/"
        },
        "outputId": "70b7e8c7-44ba-475e-acb9-3c18ebb1ac1e"
      },
      "outputs": [
        {
          "name": "stdout",
          "output_type": "stream",
          "text": [
            "Drive already mounted at /content/drive; to attempt to forcibly remount, call drive.mount(\"/content/drive\", force_remount=True).\n",
            "/content/drive/MyDrive/AlmaBetter/Excel files of denim and jeans/Final Pakistan Fab Exp June - Aug 21 No BD.xlsx\n",
            "June_Aug_pak_file\n"
          ]
        }
      ],
      "source": [
        "from google.colab import drive\n",
        "drive.mount('/content/drive')\n",
        "import io\n",
        "import pandas as pd\n",
        "import regex as re\n",
        "import numpy as np\n",
        "path_file = input()\n",
        "file_name = input()\n",
        "df = pd.read_excel(path_file,sheet_name=1)"
      ]
    },
    {
      "cell_type": "code",
      "source": [
        "df.dropna(how='all',axis=0,inplace=True)"
      ],
      "metadata": {
        "id": "rCwUvYCteXf1"
      },
      "execution_count": 307,
      "outputs": []
    },
    {
      "cell_type": "code",
      "source": [
        "df.dropna(how='all',axis=1,inplace=True)"
      ],
      "metadata": {
        "id": "H8ZYWaTsF42I"
      },
      "execution_count": 308,
      "outputs": []
    },
    {
      "cell_type": "code",
      "source": [
        "df.reset_index(drop=True,inplace=True)"
      ],
      "metadata": {
        "id": "NEI2owceefb5"
      },
      "execution_count": 309,
      "outputs": []
    },
    {
      "cell_type": "code",
      "source": [
        "sentence ='Hey the value is 23, 789 MTR'\n",
        "re.sub(r'(\\d{2,})(,\\s)(\\d{2,} m)',r'\\1\\3',sentence.casefold())"
      ],
      "metadata": {
        "colab": {
          "base_uri": "https://localhost:8080/",
          "height": 35
        },
        "id": "z-pjfuozFnLH",
        "outputId": "d8581b3f-4557-4156-a98f-0ab5a3f07308"
      },
      "execution_count": 310,
      "outputs": [
        {
          "output_type": "execute_result",
          "data": {
            "text/plain": [
              "'hey the value is 23789 mtr'"
            ],
            "application/vnd.google.colaboratory.intrinsic+json": {
              "type": "string"
            }
          },
          "metadata": {},
          "execution_count": 310
        }
      ]
    },
    {
      "cell_type": "code",
      "source": [
        "for index,x in enumerate(df['Product Description']):\n",
        "  if re.findall(r'\\d{2,}mt',df['Product Description'][index].casefold()):\n",
        "    df['Product Description'][index]= re.sub(r'(\\d{2,})(m)',r' \\1 \\2',df['Product Description'][index].casefold())\n",
        "  elif re.findall(r'\\d{1,}\\s,\\s\\d{2,} m',df['Product Description'][index].casefold()):\n",
        "    df['Product Description'][index] = re.sub(r'(\\d{1,})(\\s,\\s)(\\d{2,}) m',r'\\1\\3 M',df['Product Description'][index].casefold())\n",
        "  elif re.findall(r'd{1,},\\s\\d{2,} m',df['Product Description'][index].casefold()):\n",
        "    df['Product Description'][index] = re.sub(r'(\\d{1,})(,\\s)(d{2,} m)',r'\\1\\3 ',df['Product Description'][index].casefold())\n",
        "  elif re.findall(r'\\d{1,} \\d{1,} m',df['Product Description'][index].casefold()):\n",
        "    df['Product Description'][index] = re.sub(r'(\\d{1,}) (\\d{1,}) m',r'\\1\\2 ',df['Product Description'][index].casefold())"
      ],
      "metadata": {
        "colab": {
          "base_uri": "https://localhost:8080/"
        },
        "id": "UJy37sJ6mut2",
        "outputId": "193723fc-9f29-428c-a9f3-280102034d1a"
      },
      "execution_count": 311,
      "outputs": [
        {
          "output_type": "stream",
          "name": "stderr",
          "text": [
            "<ipython-input-311-efba1712d87e>:5: SettingWithCopyWarning: \n",
            "A value is trying to be set on a copy of a slice from a DataFrame\n",
            "\n",
            "See the caveats in the documentation: https://pandas.pydata.org/pandas-docs/stable/user_guide/indexing.html#returning-a-view-versus-a-copy\n",
            "  df['Product Description'][index] = re.sub(r'(\\d{1,})(\\s,\\s)(\\d{2,}) m',r'\\1\\3 M',df['Product Description'][index].casefold())\n",
            "<ipython-input-311-efba1712d87e>:9: SettingWithCopyWarning: \n",
            "A value is trying to be set on a copy of a slice from a DataFrame\n",
            "\n",
            "See the caveats in the documentation: https://pandas.pydata.org/pandas-docs/stable/user_guide/indexing.html#returning-a-view-versus-a-copy\n",
            "  df['Product Description'][index] = re.sub(r'(\\d{1,}) (\\d{1,}) m',r'\\1\\2 ',df['Product Description'][index].casefold())\n",
            "<ipython-input-311-efba1712d87e>:3: SettingWithCopyWarning: \n",
            "A value is trying to be set on a copy of a slice from a DataFrame\n",
            "\n",
            "See the caveats in the documentation: https://pandas.pydata.org/pandas-docs/stable/user_guide/indexing.html#returning-a-view-versus-a-copy\n",
            "  df['Product Description'][index]= re.sub(r'(\\d{2,})(m)',r' \\1 \\2',df['Product Description'][index].casefold())\n"
          ]
        }
      ]
    },
    {
      "cell_type": "code",
      "source": [
        "for index,x in enumerate(df['Product Description']):\n",
        "  if re.findall(r'\\d{2,}y',df['Product Description'][index].casefold()):\n",
        "    df['Product Description'][index] = re.sub(r'(\\d{2,})(y)',r' \\1 \\2',df['Product Description'][index].casefold()) \n",
        "  elif re.findall(r'\\d{1,}\\s,\\s\\d{2,} y',df['Product Description'][index].casefold()):\n",
        "    df['Product Description'][index] = re.sub(r'(\\d{1,})(\\s,\\s)(\\d{2,}) y',r'\\1\\3 y',df['Product Description'][index].casefold())\n",
        "  elif re.findall(r'd{1,},\\s\\d{2,} y',df['Product Description'][index].casefold()):\n",
        "    df['Product Description'][index] = re.sub(r'(\\d{1,})(,\\s)(d{2,} y)',r'\\1\\3 y',df['Product Description'][index].casefold())\n",
        "  elif re.findall(r'\\d{1,} \\d{1,} y',df['Product Description'][index].casefold()):\n",
        "    df['Product Description'][index] = re.sub(r'(\\d{1,}) (\\d{1,} y)',r'\\1\\2',df['Product Description'][index].casefold())"
      ],
      "metadata": {
        "colab": {
          "base_uri": "https://localhost:8080/"
        },
        "id": "VfCNkARLeTtI",
        "outputId": "d577605f-cf48-4a3c-9785-51872e7247a7"
      },
      "execution_count": 312,
      "outputs": [
        {
          "output_type": "stream",
          "name": "stderr",
          "text": [
            "<ipython-input-312-ba3395f33ce6>:9: SettingWithCopyWarning: \n",
            "A value is trying to be set on a copy of a slice from a DataFrame\n",
            "\n",
            "See the caveats in the documentation: https://pandas.pydata.org/pandas-docs/stable/user_guide/indexing.html#returning-a-view-versus-a-copy\n",
            "  df['Product Description'][index] = re.sub(r'(\\d{1,}) (\\d{1,} y)',r'\\1\\2',df['Product Description'][index].casefold())\n",
            "<ipython-input-312-ba3395f33ce6>:5: SettingWithCopyWarning: \n",
            "A value is trying to be set on a copy of a slice from a DataFrame\n",
            "\n",
            "See the caveats in the documentation: https://pandas.pydata.org/pandas-docs/stable/user_guide/indexing.html#returning-a-view-versus-a-copy\n",
            "  df['Product Description'][index] = re.sub(r'(\\d{1,})(\\s,\\s)(\\d{2,}) y',r'\\1\\3 y',df['Product Description'][index].casefold())\n",
            "<ipython-input-312-ba3395f33ce6>:3: SettingWithCopyWarning: \n",
            "A value is trying to be set on a copy of a slice from a DataFrame\n",
            "\n",
            "See the caveats in the documentation: https://pandas.pydata.org/pandas-docs/stable/user_guide/indexing.html#returning-a-view-versus-a-copy\n",
            "  df['Product Description'][index] = re.sub(r'(\\d{2,})(y)',r' \\1 \\2',df['Product Description'][index].casefold())\n"
          ]
        }
      ]
    },
    {
      "cell_type": "code",
      "source": [
        "df"
      ],
      "metadata": {
        "colab": {
          "base_uri": "https://localhost:8080/",
          "height": 1000
        },
        "id": "3IGNwYZKqPWg",
        "outputId": "f8c5baca-c189-4ca0-b27b-0017b3ae77c7"
      },
      "execution_count": 313,
      "outputs": [
        {
          "output_type": "execute_result",
          "data": {
            "text/plain": [
              "           Date     HS Code  \\\n",
              "0    2021-06-17  52094200.0   \n",
              "1    2021-07-19  52094200.0   \n",
              "2    2021-07-15  52094200.0   \n",
              "3    2021-07-15  52094200.0   \n",
              "4    2021-07-14  52094200.0   \n",
              "...         ...         ...   \n",
              "1333 2021-07-26  52094200.0   \n",
              "1334 2021-07-26  52094200.0   \n",
              "1335 2021-07-24  52094200.0   \n",
              "1336 2021-07-24  52094200.0   \n",
              "1337 2021-08-14  52094200.0   \n",
              "\n",
              "                                 HS Product Description  \\\n",
              "0     Woven fabrics of cotton, containing 85 % or mo...   \n",
              "1     Woven fabrics of cotton, containing 85 % or mo...   \n",
              "2     Woven fabrics of cotton, containing 85 % or mo...   \n",
              "3     Woven fabrics of cotton, containing 85 % or mo...   \n",
              "4     Woven fabrics of cotton, containing 85 % or mo...   \n",
              "...                                                 ...   \n",
              "1333  Woven fabrics of cotton, containing 85 % or mo...   \n",
              "1334  Woven fabrics of cotton, containing 85 % or mo...   \n",
              "1335  Woven fabrics of cotton, containing 85 % or mo...   \n",
              "1336  Woven fabrics of cotton, containing 85 % or mo...   \n",
              "1337  Woven fabrics of cotton, containing 85 % or mo...   \n",
              "\n",
              "                                    Product Description    Yards     Mtrs  \\\n",
              "0      DENIM FABRIC 98% COTTON 2% SPANDEX DENIM FABRIC.      NaN      NaN   \n",
              "1                            DENIM FABRIC (QTY 369 PCS)      NaN      NaN   \n",
              "2     99% COTTON 1% ELASTANE DYED DENIM FABRIC 09.50...  22215.0      NaN   \n",
              "3     99% COTTON 1% LYCRA DYED DENIM FABRIC 10.50 OZ...  22010.0      NaN   \n",
              "4     98% COTTON & 2% ELASTANE DYED DENIM FABRIC 11....  14437.0      NaN   \n",
              "...                                                 ...      ...      ...   \n",
              "1333  100% cotton woven denim fabric dyed. width: 56...      NaN  26579.0   \n",
              "1334  99%cotton 1%elastane & 89%cotton 8% pes 3%elas...      NaN  41591.0   \n",
              "1335  99%cotton 1%elastane & 89% cotton 8% pes 3% el...      NaN  39031.0   \n",
              "1336  100% COTTON , 99% COTTON 1% ELASTANE DENIM FAB...      NaN  17686.0   \n",
              "1337  JEANS SUIT& AMP SHOPPING BAGS DETAILED AS PER ...      NaN      NaN   \n",
              "\n",
              "      Width  Final Mtrs or Other unit Final Unit  \\\n",
              "0       NaN                       NaN        NaN   \n",
              "1       NaN                       NaN        NaN   \n",
              "2       NaN                20313.3960        Mtr   \n",
              "3       NaN                20125.9440        Mtr   \n",
              "4       NaN                13201.1928        Mtr   \n",
              "...     ...                       ...        ...   \n",
              "1333    NaN                26579.0000        mtr   \n",
              "1334    NaN                41591.0000        mtr   \n",
              "1335    NaN                39031.0000        mtr   \n",
              "1336    NaN                17686.0000        mtr   \n",
              "1337    NaN                       NaN        NaN   \n",
              "\n",
              "                              Consignee Name  ... Std. Unit  Unit   Quantity  \\\n",
              "0                              INTERMODA S A  ...       Kgs    KG   9256.000   \n",
              "1                 ORIT TRADING LANKA PVT LTD  ...       Kgs    KG    126.000   \n",
              "2                 ORIT TRADING LANKA PVT LTD  ...       Kgs    KG   9634.000   \n",
              "3                 ORIT TRADING LANKA PVT LTD  ...       Kgs    KG  10476.000   \n",
              "4                       YOLO TRADING LIMITED  ...       Kgs    KG   6681.000   \n",
              "...                                      ...  ...       ...   ...        ...   \n",
              "1333        SANTUK TEKSTIL SAN. VE TIC. A.S.  ...       Kgs    KG  20046.206   \n",
              "1334  US FASHION TURKEY TEKSTIL TICARET A.S.  ...       Kgs    KG  23082.264   \n",
              "1335  US FASHION TURKEY TEKSTIL TICARET A.S.  ...       Kgs    KG  21930.122   \n",
              "1336                           CROSSING SARL  ...       Kgs    KG  12291.240   \n",
              "1337                    MR KALIA & MR. DEEJY  ...       Kgs    KG    350.000   \n",
              "\n",
              "     Unit Rate in Foreign Currency  Value Currency    Value FOB  \\\n",
              "0                             7.24         LEMPIRA  10511058.06   \n",
              "1                             1.46           RUPEE     29389.12   \n",
              "2                             5.42           RUPEE   8326284.31   \n",
              "3                             5.15           RUPEE   8600364.66   \n",
              "4                             5.90            DONG   6280497.13   \n",
              "...                            ...             ...          ...   \n",
              "1333                          3.51  EGYPTIAN POUND  11371625.76   \n",
              "1334                          5.14            LIRA  19137370.77   \n",
              "1335                          5.07            LIRA  17959432.00   \n",
              "1336                          4.18          DIRHAM   8295672.28   \n",
              "1337                          1.86            US $    106565.04   \n",
              "\n",
              "     Shipment Value Foreign Currency   Port of Origin  Country of Destination  \\\n",
              "0                          67013.440          Karachi                Honduras   \n",
              "1                            184.490  Karachi Airport               Sri Lanka   \n",
              "2                          52205.680          Karachi               Sri Lanka   \n",
              "3                          53924.160          Karachi               Sri Lanka   \n",
              "4                          39413.220          Karachi                 Vietnam   \n",
              "...                              ...              ...                     ...   \n",
              "1333                       70434.350          Karachi                   Egypt   \n",
              "1334                      118534.350          Karachi                  Turkey   \n",
              "1335                      111238.350          Karachi                  Turkey   \n",
              "1336                       51382.300          Karachi                 Morocco   \n",
              "1337                         649.985   Lahore Airport           United States   \n",
              "\n",
              "     Unnamed: 22  \n",
              "0            NaN  \n",
              "1            NaN  \n",
              "2            NaN  \n",
              "3            NaN  \n",
              "4            NaN  \n",
              "...          ...  \n",
              "1333         NaN  \n",
              "1334         NaN  \n",
              "1335         NaN  \n",
              "1336         NaN  \n",
              "1337         NaN  \n",
              "\n",
              "[1338 rows x 22 columns]"
            ],
            "text/html": [
              "\n",
              "  <div id=\"df-49e0ce87-5063-4e79-b3f0-ee3c2dbdaac5\">\n",
              "    <div class=\"colab-df-container\">\n",
              "      <div>\n",
              "<style scoped>\n",
              "    .dataframe tbody tr th:only-of-type {\n",
              "        vertical-align: middle;\n",
              "    }\n",
              "\n",
              "    .dataframe tbody tr th {\n",
              "        vertical-align: top;\n",
              "    }\n",
              "\n",
              "    .dataframe thead th {\n",
              "        text-align: right;\n",
              "    }\n",
              "</style>\n",
              "<table border=\"1\" class=\"dataframe\">\n",
              "  <thead>\n",
              "    <tr style=\"text-align: right;\">\n",
              "      <th></th>\n",
              "      <th>Date</th>\n",
              "      <th>HS Code</th>\n",
              "      <th>HS Product Description</th>\n",
              "      <th>Product Description</th>\n",
              "      <th>Yards</th>\n",
              "      <th>Mtrs</th>\n",
              "      <th>Width</th>\n",
              "      <th>Final Mtrs or Other unit</th>\n",
              "      <th>Final Unit</th>\n",
              "      <th>Consignee Name</th>\n",
              "      <th>...</th>\n",
              "      <th>Std. Unit</th>\n",
              "      <th>Unit</th>\n",
              "      <th>Quantity</th>\n",
              "      <th>Unit Rate in Foreign Currency</th>\n",
              "      <th>Value Currency</th>\n",
              "      <th>Value FOB</th>\n",
              "      <th>Shipment Value Foreign Currency</th>\n",
              "      <th>Port of Origin</th>\n",
              "      <th>Country of Destination</th>\n",
              "      <th>Unnamed: 22</th>\n",
              "    </tr>\n",
              "  </thead>\n",
              "  <tbody>\n",
              "    <tr>\n",
              "      <th>0</th>\n",
              "      <td>2021-06-17</td>\n",
              "      <td>52094200.0</td>\n",
              "      <td>Woven fabrics of cotton, containing 85 % or mo...</td>\n",
              "      <td>DENIM FABRIC 98% COTTON 2% SPANDEX DENIM FABRIC.</td>\n",
              "      <td>NaN</td>\n",
              "      <td>NaN</td>\n",
              "      <td>NaN</td>\n",
              "      <td>NaN</td>\n",
              "      <td>NaN</td>\n",
              "      <td>INTERMODA S A</td>\n",
              "      <td>...</td>\n",
              "      <td>Kgs</td>\n",
              "      <td>KG</td>\n",
              "      <td>9256.000</td>\n",
              "      <td>7.24</td>\n",
              "      <td>LEMPIRA</td>\n",
              "      <td>10511058.06</td>\n",
              "      <td>67013.440</td>\n",
              "      <td>Karachi</td>\n",
              "      <td>Honduras</td>\n",
              "      <td>NaN</td>\n",
              "    </tr>\n",
              "    <tr>\n",
              "      <th>1</th>\n",
              "      <td>2021-07-19</td>\n",
              "      <td>52094200.0</td>\n",
              "      <td>Woven fabrics of cotton, containing 85 % or mo...</td>\n",
              "      <td>DENIM FABRIC (QTY 369 PCS)</td>\n",
              "      <td>NaN</td>\n",
              "      <td>NaN</td>\n",
              "      <td>NaN</td>\n",
              "      <td>NaN</td>\n",
              "      <td>NaN</td>\n",
              "      <td>ORIT TRADING LANKA PVT LTD</td>\n",
              "      <td>...</td>\n",
              "      <td>Kgs</td>\n",
              "      <td>KG</td>\n",
              "      <td>126.000</td>\n",
              "      <td>1.46</td>\n",
              "      <td>RUPEE</td>\n",
              "      <td>29389.12</td>\n",
              "      <td>184.490</td>\n",
              "      <td>Karachi Airport</td>\n",
              "      <td>Sri Lanka</td>\n",
              "      <td>NaN</td>\n",
              "    </tr>\n",
              "    <tr>\n",
              "      <th>2</th>\n",
              "      <td>2021-07-15</td>\n",
              "      <td>52094200.0</td>\n",
              "      <td>Woven fabrics of cotton, containing 85 % or mo...</td>\n",
              "      <td>99% COTTON 1% ELASTANE DYED DENIM FABRIC 09.50...</td>\n",
              "      <td>22215.0</td>\n",
              "      <td>NaN</td>\n",
              "      <td>NaN</td>\n",
              "      <td>20313.3960</td>\n",
              "      <td>Mtr</td>\n",
              "      <td>ORIT TRADING LANKA PVT LTD</td>\n",
              "      <td>...</td>\n",
              "      <td>Kgs</td>\n",
              "      <td>KG</td>\n",
              "      <td>9634.000</td>\n",
              "      <td>5.42</td>\n",
              "      <td>RUPEE</td>\n",
              "      <td>8326284.31</td>\n",
              "      <td>52205.680</td>\n",
              "      <td>Karachi</td>\n",
              "      <td>Sri Lanka</td>\n",
              "      <td>NaN</td>\n",
              "    </tr>\n",
              "    <tr>\n",
              "      <th>3</th>\n",
              "      <td>2021-07-15</td>\n",
              "      <td>52094200.0</td>\n",
              "      <td>Woven fabrics of cotton, containing 85 % or mo...</td>\n",
              "      <td>99% COTTON 1% LYCRA DYED DENIM FABRIC 10.50 OZ...</td>\n",
              "      <td>22010.0</td>\n",
              "      <td>NaN</td>\n",
              "      <td>NaN</td>\n",
              "      <td>20125.9440</td>\n",
              "      <td>Mtr</td>\n",
              "      <td>ORIT TRADING LANKA PVT LTD</td>\n",
              "      <td>...</td>\n",
              "      <td>Kgs</td>\n",
              "      <td>KG</td>\n",
              "      <td>10476.000</td>\n",
              "      <td>5.15</td>\n",
              "      <td>RUPEE</td>\n",
              "      <td>8600364.66</td>\n",
              "      <td>53924.160</td>\n",
              "      <td>Karachi</td>\n",
              "      <td>Sri Lanka</td>\n",
              "      <td>NaN</td>\n",
              "    </tr>\n",
              "    <tr>\n",
              "      <th>4</th>\n",
              "      <td>2021-07-14</td>\n",
              "      <td>52094200.0</td>\n",
              "      <td>Woven fabrics of cotton, containing 85 % or mo...</td>\n",
              "      <td>98% COTTON &amp; 2% ELASTANE DYED DENIM FABRIC 11....</td>\n",
              "      <td>14437.0</td>\n",
              "      <td>NaN</td>\n",
              "      <td>NaN</td>\n",
              "      <td>13201.1928</td>\n",
              "      <td>Mtr</td>\n",
              "      <td>YOLO TRADING LIMITED</td>\n",
              "      <td>...</td>\n",
              "      <td>Kgs</td>\n",
              "      <td>KG</td>\n",
              "      <td>6681.000</td>\n",
              "      <td>5.90</td>\n",
              "      <td>DONG</td>\n",
              "      <td>6280497.13</td>\n",
              "      <td>39413.220</td>\n",
              "      <td>Karachi</td>\n",
              "      <td>Vietnam</td>\n",
              "      <td>NaN</td>\n",
              "    </tr>\n",
              "    <tr>\n",
              "      <th>...</th>\n",
              "      <td>...</td>\n",
              "      <td>...</td>\n",
              "      <td>...</td>\n",
              "      <td>...</td>\n",
              "      <td>...</td>\n",
              "      <td>...</td>\n",
              "      <td>...</td>\n",
              "      <td>...</td>\n",
              "      <td>...</td>\n",
              "      <td>...</td>\n",
              "      <td>...</td>\n",
              "      <td>...</td>\n",
              "      <td>...</td>\n",
              "      <td>...</td>\n",
              "      <td>...</td>\n",
              "      <td>...</td>\n",
              "      <td>...</td>\n",
              "      <td>...</td>\n",
              "      <td>...</td>\n",
              "      <td>...</td>\n",
              "      <td>...</td>\n",
              "    </tr>\n",
              "    <tr>\n",
              "      <th>1333</th>\n",
              "      <td>2021-07-26</td>\n",
              "      <td>52094200.0</td>\n",
              "      <td>Woven fabrics of cotton, containing 85 % or mo...</td>\n",
              "      <td>100% cotton woven denim fabric dyed. width: 56...</td>\n",
              "      <td>NaN</td>\n",
              "      <td>26579.0</td>\n",
              "      <td>NaN</td>\n",
              "      <td>26579.0000</td>\n",
              "      <td>mtr</td>\n",
              "      <td>SANTUK TEKSTIL SAN. VE TIC. A.S.</td>\n",
              "      <td>...</td>\n",
              "      <td>Kgs</td>\n",
              "      <td>KG</td>\n",
              "      <td>20046.206</td>\n",
              "      <td>3.51</td>\n",
              "      <td>EGYPTIAN POUND</td>\n",
              "      <td>11371625.76</td>\n",
              "      <td>70434.350</td>\n",
              "      <td>Karachi</td>\n",
              "      <td>Egypt</td>\n",
              "      <td>NaN</td>\n",
              "    </tr>\n",
              "    <tr>\n",
              "      <th>1334</th>\n",
              "      <td>2021-07-26</td>\n",
              "      <td>52094200.0</td>\n",
              "      <td>Woven fabrics of cotton, containing 85 % or mo...</td>\n",
              "      <td>99%cotton 1%elastane &amp; 89%cotton 8% pes 3%elas...</td>\n",
              "      <td>NaN</td>\n",
              "      <td>41591.0</td>\n",
              "      <td>NaN</td>\n",
              "      <td>41591.0000</td>\n",
              "      <td>mtr</td>\n",
              "      <td>US FASHION TURKEY TEKSTIL TICARET A.S.</td>\n",
              "      <td>...</td>\n",
              "      <td>Kgs</td>\n",
              "      <td>KG</td>\n",
              "      <td>23082.264</td>\n",
              "      <td>5.14</td>\n",
              "      <td>LIRA</td>\n",
              "      <td>19137370.77</td>\n",
              "      <td>118534.350</td>\n",
              "      <td>Karachi</td>\n",
              "      <td>Turkey</td>\n",
              "      <td>NaN</td>\n",
              "    </tr>\n",
              "    <tr>\n",
              "      <th>1335</th>\n",
              "      <td>2021-07-24</td>\n",
              "      <td>52094200.0</td>\n",
              "      <td>Woven fabrics of cotton, containing 85 % or mo...</td>\n",
              "      <td>99%cotton 1%elastane &amp; 89% cotton 8% pes 3% el...</td>\n",
              "      <td>NaN</td>\n",
              "      <td>39031.0</td>\n",
              "      <td>NaN</td>\n",
              "      <td>39031.0000</td>\n",
              "      <td>mtr</td>\n",
              "      <td>US FASHION TURKEY TEKSTIL TICARET A.S.</td>\n",
              "      <td>...</td>\n",
              "      <td>Kgs</td>\n",
              "      <td>KG</td>\n",
              "      <td>21930.122</td>\n",
              "      <td>5.07</td>\n",
              "      <td>LIRA</td>\n",
              "      <td>17959432.00</td>\n",
              "      <td>111238.350</td>\n",
              "      <td>Karachi</td>\n",
              "      <td>Turkey</td>\n",
              "      <td>NaN</td>\n",
              "    </tr>\n",
              "    <tr>\n",
              "      <th>1336</th>\n",
              "      <td>2021-07-24</td>\n",
              "      <td>52094200.0</td>\n",
              "      <td>Woven fabrics of cotton, containing 85 % or mo...</td>\n",
              "      <td>100% COTTON , 99% COTTON 1% ELASTANE DENIM FAB...</td>\n",
              "      <td>NaN</td>\n",
              "      <td>17686.0</td>\n",
              "      <td>NaN</td>\n",
              "      <td>17686.0000</td>\n",
              "      <td>mtr</td>\n",
              "      <td>CROSSING SARL</td>\n",
              "      <td>...</td>\n",
              "      <td>Kgs</td>\n",
              "      <td>KG</td>\n",
              "      <td>12291.240</td>\n",
              "      <td>4.18</td>\n",
              "      <td>DIRHAM</td>\n",
              "      <td>8295672.28</td>\n",
              "      <td>51382.300</td>\n",
              "      <td>Karachi</td>\n",
              "      <td>Morocco</td>\n",
              "      <td>NaN</td>\n",
              "    </tr>\n",
              "    <tr>\n",
              "      <th>1337</th>\n",
              "      <td>2021-08-14</td>\n",
              "      <td>52094200.0</td>\n",
              "      <td>Woven fabrics of cotton, containing 85 % or mo...</td>\n",
              "      <td>JEANS SUIT&amp; AMP SHOPPING BAGS DETAILED AS PER ...</td>\n",
              "      <td>NaN</td>\n",
              "      <td>NaN</td>\n",
              "      <td>NaN</td>\n",
              "      <td>NaN</td>\n",
              "      <td>NaN</td>\n",
              "      <td>MR KALIA &amp; MR. DEEJY</td>\n",
              "      <td>...</td>\n",
              "      <td>Kgs</td>\n",
              "      <td>KG</td>\n",
              "      <td>350.000</td>\n",
              "      <td>1.86</td>\n",
              "      <td>US $</td>\n",
              "      <td>106565.04</td>\n",
              "      <td>649.985</td>\n",
              "      <td>Lahore Airport</td>\n",
              "      <td>United States</td>\n",
              "      <td>NaN</td>\n",
              "    </tr>\n",
              "  </tbody>\n",
              "</table>\n",
              "<p>1338 rows × 22 columns</p>\n",
              "</div>\n",
              "      <button class=\"colab-df-convert\" onclick=\"convertToInteractive('df-49e0ce87-5063-4e79-b3f0-ee3c2dbdaac5')\"\n",
              "              title=\"Convert this dataframe to an interactive table.\"\n",
              "              style=\"display:none;\">\n",
              "        \n",
              "  <svg xmlns=\"http://www.w3.org/2000/svg\" height=\"24px\"viewBox=\"0 0 24 24\"\n",
              "       width=\"24px\">\n",
              "    <path d=\"M0 0h24v24H0V0z\" fill=\"none\"/>\n",
              "    <path d=\"M18.56 5.44l.94 2.06.94-2.06 2.06-.94-2.06-.94-.94-2.06-.94 2.06-2.06.94zm-11 1L8.5 8.5l.94-2.06 2.06-.94-2.06-.94L8.5 2.5l-.94 2.06-2.06.94zm10 10l.94 2.06.94-2.06 2.06-.94-2.06-.94-.94-2.06-.94 2.06-2.06.94z\"/><path d=\"M17.41 7.96l-1.37-1.37c-.4-.4-.92-.59-1.43-.59-.52 0-1.04.2-1.43.59L10.3 9.45l-7.72 7.72c-.78.78-.78 2.05 0 2.83L4 21.41c.39.39.9.59 1.41.59.51 0 1.02-.2 1.41-.59l7.78-7.78 2.81-2.81c.8-.78.8-2.07 0-2.86zM5.41 20L4 18.59l7.72-7.72 1.47 1.35L5.41 20z\"/>\n",
              "  </svg>\n",
              "      </button>\n",
              "      \n",
              "  <style>\n",
              "    .colab-df-container {\n",
              "      display:flex;\n",
              "      flex-wrap:wrap;\n",
              "      gap: 12px;\n",
              "    }\n",
              "\n",
              "    .colab-df-convert {\n",
              "      background-color: #E8F0FE;\n",
              "      border: none;\n",
              "      border-radius: 50%;\n",
              "      cursor: pointer;\n",
              "      display: none;\n",
              "      fill: #1967D2;\n",
              "      height: 32px;\n",
              "      padding: 0 0 0 0;\n",
              "      width: 32px;\n",
              "    }\n",
              "\n",
              "    .colab-df-convert:hover {\n",
              "      background-color: #E2EBFA;\n",
              "      box-shadow: 0px 1px 2px rgba(60, 64, 67, 0.3), 0px 1px 3px 1px rgba(60, 64, 67, 0.15);\n",
              "      fill: #174EA6;\n",
              "    }\n",
              "\n",
              "    [theme=dark] .colab-df-convert {\n",
              "      background-color: #3B4455;\n",
              "      fill: #D2E3FC;\n",
              "    }\n",
              "\n",
              "    [theme=dark] .colab-df-convert:hover {\n",
              "      background-color: #434B5C;\n",
              "      box-shadow: 0px 1px 3px 1px rgba(0, 0, 0, 0.15);\n",
              "      filter: drop-shadow(0px 1px 2px rgba(0, 0, 0, 0.3));\n",
              "      fill: #FFFFFF;\n",
              "    }\n",
              "  </style>\n",
              "\n",
              "      <script>\n",
              "        const buttonEl =\n",
              "          document.querySelector('#df-49e0ce87-5063-4e79-b3f0-ee3c2dbdaac5 button.colab-df-convert');\n",
              "        buttonEl.style.display =\n",
              "          google.colab.kernel.accessAllowed ? 'block' : 'none';\n",
              "\n",
              "        async function convertToInteractive(key) {\n",
              "          const element = document.querySelector('#df-49e0ce87-5063-4e79-b3f0-ee3c2dbdaac5');\n",
              "          const dataTable =\n",
              "            await google.colab.kernel.invokeFunction('convertToInteractive',\n",
              "                                                     [key], {});\n",
              "          if (!dataTable) return;\n",
              "\n",
              "          const docLinkHtml = 'Like what you see? Visit the ' +\n",
              "            '<a target=\"_blank\" href=https://colab.research.google.com/notebooks/data_table.ipynb>data table notebook</a>'\n",
              "            + ' to learn more about interactive tables.';\n",
              "          element.innerHTML = '';\n",
              "          dataTable['output_type'] = 'display_data';\n",
              "          await google.colab.output.renderOutput(dataTable, element);\n",
              "          const docLink = document.createElement('div');\n",
              "          docLink.innerHTML = docLinkHtml;\n",
              "          element.appendChild(docLink);\n",
              "        }\n",
              "      </script>\n",
              "    </div>\n",
              "  </div>\n",
              "  "
            ]
          },
          "metadata": {},
          "execution_count": 313
        }
      ]
    },
    {
      "cell_type": "markdown",
      "source": [
        "1303,903,873,1328,403,163,128,306,58,1243"
      ],
      "metadata": {
        "id": "lOaIDgyVqP7d"
      }
    },
    {
      "cell_type": "markdown",
      "source": [
        "**Phase 1 Data cleaning**\n",
        "\n",
        "Extracting and cleaning of Data with definite values"
      ],
      "metadata": {
        "id": "mEwcxZZVNmte"
      }
    },
    {
      "cell_type": "code",
      "source": [
        "# length in metres\n",
        "df['Length(m)'] = np.nan"
      ],
      "metadata": {
        "id": "g-DpgBtXWZ9s"
      },
      "execution_count": 314,
      "outputs": []
    },
    {
      "cell_type": "code",
      "source": [
        "# length in yards\n",
        "df['Length(Yards)'] = np.nan"
      ],
      "metadata": {
        "id": "bwJ7vfHI60nu"
      },
      "execution_count": 315,
      "outputs": []
    },
    {
      "cell_type": "code",
      "source": [
        "df['Unit column'] = np.nan"
      ],
      "metadata": {
        "id": "dUcBSjxqH-er"
      },
      "execution_count": 316,
      "outputs": []
    },
    {
      "cell_type": "code",
      "source": [
        "#code for unit column\n",
        "df['Product Description'] = df['Product Description'].astype(str)\n",
        "for index,x in enumerate(df['Product Description']):\n",
        "    if 'mtr' in x.casefold():\n",
        "      df['Unit column'][index] = 'MTR'\n",
        "    elif 'yard' in x.casefold() or 'yds' in x.casefold():\n",
        "      df['Unit column'][index] = 'YARD'"
      ],
      "metadata": {
        "colab": {
          "base_uri": "https://localhost:8080/"
        },
        "id": "a3OZwqvYIHon",
        "outputId": "aa48c512-b036-4e6e-8617-d6a5967a29ad"
      },
      "execution_count": 317,
      "outputs": [
        {
          "output_type": "stream",
          "name": "stderr",
          "text": [
            "<ipython-input-317-241256d70b9d>:7: SettingWithCopyWarning: \n",
            "A value is trying to be set on a copy of a slice from a DataFrame\n",
            "\n",
            "See the caveats in the documentation: https://pandas.pydata.org/pandas-docs/stable/user_guide/indexing.html#returning-a-view-versus-a-copy\n",
            "  df['Unit column'][index] = 'YARD'\n",
            "/usr/local/lib/python3.8/dist-packages/pandas/core/indexing.py:1732: SettingWithCopyWarning: \n",
            "A value is trying to be set on a copy of a slice from a DataFrame\n",
            "\n",
            "See the caveats in the documentation: https://pandas.pydata.org/pandas-docs/stable/user_guide/indexing.html#returning-a-view-versus-a-copy\n",
            "  self._setitem_single_block(indexer, value, name)\n"
          ]
        }
      ]
    },
    {
      "cell_type": "code",
      "source": [
        "def update_function(dict_values,loc):\n",
        "  for i in dict_values.keys():\n",
        "    df.iloc[i,df.columns.get_loc(f'{loc}')] = dict_values[i]"
      ],
      "metadata": {
        "id": "CQ3pCf7NzcRN"
      },
      "execution_count": 318,
      "outputs": []
    },
    {
      "cell_type": "code",
      "source": [
        "d_1={}\n",
        "b = ['Yard','YD']\n",
        "dirty_d_2={}\n",
        "count = 0\n",
        "for x,v in df.iterrows():\n",
        "  for index,i in enumerate(df['Product Description'][x].split()):\n",
        "    for c in b:\n",
        "      if c.casefold() in i.casefold():\n",
        "            #print(f'Term:{i}',f'Row:{x}',f'Index of the word in the list:{index}')\n",
        "            if df['Product Description'][x].split()[index -1].replace('.','').replace(',','').isdigit() and df['Product Description'][x].split()[index -1].replace('.','')[0] != '0':\n",
        "               try:   \n",
        "                  if eval(df['Product Description'][x].split()[index - 1].replace(',','')) > 100:\n",
        "                    num_val = eval(df['Product Description'][x].split()[index -1].replace(',',''))\n",
        "                    d_1[x] = num_val\n",
        "               except:\n",
        "                     continue\n",
        "            elif df['Product Description'][x].split()[index - 1][0] == '(':\n",
        "              dirty_d_2[x] = df['Product Description'][x].split()[index - 1]\n",
        "d_1"
      ],
      "metadata": {
        "id": "-lOb4xzP_otF"
      },
      "execution_count": null,
      "outputs": []
    },
    {
      "cell_type": "code",
      "source": [
        "d = {}\n",
        "a = \"MT\"\n",
        "dirty_d_1 ={}\n",
        "for x in range(len(df['Product Description'])):\n",
        "  for index,i in enumerate(df['Product Description'][x].split()):\n",
        "      if a.casefold() in i.casefold():\n",
        "        if df['Product Description'][x].split()[index -1].replace(',','').isdigit():\n",
        "          try:\n",
        "            if eval(df['Product Description'][x].split()[index -1][0].replace(',','')) != 0 and df['Product Description'][x].split()[index -1].replace('.','')[0] != '0' and eval(df['Product Description'][x].split()[index -1].replace(',','')) > 100:\n",
        "              num_val = eval(df['Product Description'][x].split()[index -1].replace(',',''))\n",
        "              d[x] = num_val\n",
        "          except:\n",
        "                continue           \n",
        "        elif df['Product Description'][x].split()[index -1][0] == '(':\n",
        "          dirty_d_1[x] = df['Product Description'][x].split()[index -1]\n",
        "d"
      ],
      "metadata": {
        "id": "hbBhRoDV7ysO"
      },
      "execution_count": null,
      "outputs": []
    },
    {
      "cell_type": "code",
      "source": [
        "update_function(d,'Length(m)')"
      ],
      "metadata": {
        "id": "kzBjJ6PzYZhT"
      },
      "execution_count": 321,
      "outputs": []
    },
    {
      "cell_type": "code",
      "source": [
        "update_function(d_1,'Length(Yards)')"
      ],
      "metadata": {
        "id": "6QZGcBKSEye1"
      },
      "execution_count": 322,
      "outputs": []
    },
    {
      "cell_type": "markdown",
      "source": [
        "**Phase 2 Data Cleaning**\n",
        "\n",
        "Dirty values collected in the Phase 1 cleaning will be cleaned and will be extracted.\n",
        "\n",
        "There are certain pattern in the Data errors, here we will try to remove them.\n",
        "\n",
        "\n"
      ],
      "metadata": {
        "id": "mgOBcyX6T3kf"
      }
    },
    {
      "cell_type": "markdown",
      "source": [
        "Major issues in the Data:\n",
        "1. Brackets put out without space\n",
        "2. Units and values connected without any spacing  \n"
      ],
      "metadata": {
        "id": "cWbyEEaTVSvB"
      }
    },
    {
      "cell_type": "code",
      "source": [
        "dict_final_d = {}\n",
        "count = 0\n",
        "emptylist = []\n",
        "for Key,val in dirty_d_1.items():\n",
        "  for x in re.findall(r'\\d{2,}.',val):\n",
        "    if x.replace('.','').replace('.','').isdigit():\n",
        "      dict_final_d[Key] = eval(x)\n",
        "        # if eval(x) > 10\n",
        "                      #   dict_final_d[Key] = eval(x)"
      ],
      "metadata": {
        "id": "tKZkibRXnsMB"
      },
      "execution_count": 323,
      "outputs": []
    },
    {
      "cell_type": "code",
      "source": [
        "dict_d_Y = {}\n",
        "dict_final_d_1 = {}\n",
        "emptylist2 = []\n",
        "for Key,val in dirty_d_2.items():\n",
        "    for x in re.findall(r'\\d{2,}.',val):\n",
        "      if x.replace('.','').isdigit():\n",
        "        dict_final_d_1[Key] = eval(x)\n",
        "dict_final_d_1"
      ],
      "metadata": {
        "id": "Ps9aB7kOeyKb"
      },
      "execution_count": null,
      "outputs": []
    },
    {
      "cell_type": "code",
      "source": [
        "update_function(dict_final_d,'Length(m)')"
      ],
      "metadata": {
        "id": "IQIry9DU0HUI"
      },
      "execution_count": 325,
      "outputs": []
    },
    {
      "cell_type": "code",
      "source": [
        "update_function(dict_final_d_1,'Length(Yards)')"
      ],
      "metadata": {
        "id": "qIk_wWsl2DbC"
      },
      "execution_count": 326,
      "outputs": []
    },
    {
      "cell_type": "markdown",
      "source": [
        "**Phase 3 - Data Cleaning**"
      ],
      "metadata": {
        "id": "ZEvMUC5IdZg2"
      }
    },
    {
      "cell_type": "code",
      "source": [
        "l = 'MT'\n",
        "Qt_dirty_d_1 ={}\n",
        "for x in range(len(df['Product Description'])):\n",
        "  for index,i in enumerate(df['Product Description'][x].split()):\n",
        "      if l.casefold() in i.casefold():\n",
        "        if 'qty' in df['Product Description'][x].split()[index - 1 ][:3].casefold():\n",
        "            Qt_dirty_d_1[x] = df['Product Description'][x].split()[index -1]"
      ],
      "metadata": {
        "id": "FhHQQ6jabuem"
      },
      "execution_count": 327,
      "outputs": []
    },
    {
      "cell_type": "code",
      "source": [
        "emptydict = {}\n",
        "lit = []\n",
        "LP = []\n",
        "for Key,val in Qt_dirty_d_1.items():\n",
        "  for x in (re.findall(r'\\d{2,}$',val)):\n",
        "    if eval(x) > 10:\n",
        "      emptydict[Key] = eval(x)"
      ],
      "metadata": {
        "id": "L0lNNS_akiDl"
      },
      "execution_count": 328,
      "outputs": []
    },
    {
      "cell_type": "code",
      "source": [
        "update_function(emptydict,'Length(m)')"
      ],
      "metadata": {
        "id": "a9WmZmhg8Jo9"
      },
      "execution_count": 329,
      "outputs": []
    },
    {
      "cell_type": "code",
      "source": [
        "d_1={}\n",
        "b = [\"YARDS\",\"YD\",\"Yard\"]\n",
        "Qt_dirty_d_2={}\n",
        "count = 0\n",
        "for x,v in df.iterrows():\n",
        "  for index,i in enumerate(df['Product Description'][x].split()):\n",
        "    for c in b:\n",
        "      if c.casefold() in i.casefold():\n",
        "        if 'qty' in df['Product Description'][x].split()[index - 1][:3].casefold():\n",
        "            Qt_dirty_d_2[x] = df['Product Description'][x].split()[index -1]"
      ],
      "metadata": {
        "id": "AKnz-1vBh6-m"
      },
      "execution_count": 330,
      "outputs": []
    },
    {
      "cell_type": "code",
      "source": [
        "emptydict_1 = {}\n",
        "lit_1 = []\n",
        "LP_1 = []\n",
        "for Key,val in Qt_dirty_d_2.items():\n",
        "  for x in (re.findall(r'\\d{2,}$',val)):\n",
        "    if eval(x) > 10:\n",
        "      emptydict_1[Key] = eval(x)"
      ],
      "metadata": {
        "id": "f-96uZFhhjzR"
      },
      "execution_count": 331,
      "outputs": []
    },
    {
      "cell_type": "code",
      "source": [
        "sp_dict_YD = {}\n",
        "for x in range(len(df['Product Description'])):\n",
        "#   print(re.findall('\\bQTY[0-9]',df['Product Description'][x]))\n",
        "  a = re.findall(r'\\d{1,2}\\s\\d{3}\\s[Y]',df['Product Description'][x])\n",
        "  if a:\n",
        "    for m in a:\n",
        "      sp_dict_YD[x] = eval(m.casefold().replace(' ','').replace('y',''))"
      ],
      "metadata": {
        "id": "1j1JvZF05WXi"
      },
      "execution_count": 332,
      "outputs": []
    },
    {
      "cell_type": "code",
      "source": [
        "update_function(sp_dict_YD,'Length(Yards)')"
      ],
      "metadata": {
        "id": "tGtxUhTJJFGo"
      },
      "execution_count": 333,
      "outputs": []
    },
    {
      "cell_type": "code",
      "source": [
        "sp_dict_M = {}\n",
        "for x in range(len(df['Product Description'])):\n",
        "#   print(re.findall('\\bQTY[0-9]',df['Product Description'][x]))\n",
        "  a = re.findall(r'\\d{1,2}\\s\\d{3}\\s[M]',df['Product Description'][x])\n",
        "  if a:\n",
        "    for m in a:\n",
        "      sp_dict_M[x]=eval(m.casefold().replace(' ','').replace('m',''))"
      ],
      "metadata": {
        "id": "JV9KgkixHVBn"
      },
      "execution_count": 334,
      "outputs": []
    },
    {
      "cell_type": "code",
      "source": [
        "update_function(sp_dict_M,'Length(m)')"
      ],
      "metadata": {
        "id": "l6RI-itbJOQt"
      },
      "execution_count": 335,
      "outputs": []
    },
    {
      "cell_type": "code",
      "source": [
        "update_function(emptydict_1,'Length(Yards)')"
      ],
      "metadata": {
        "id": "yHDQuicX8b_6"
      },
      "execution_count": 336,
      "outputs": []
    },
    {
      "cell_type": "code",
      "source": [
        "df = df.applymap(lambda x: x.encode('unicode_escape').\n",
        "                 decode('utf-8') if isinstance(x, str) else x)"
      ],
      "metadata": {
        "id": "y4YN4M2m1gFp"
      },
      "execution_count": 337,
      "outputs": []
    },
    {
      "cell_type": "code",
      "source": [
        "df.to_excel(file_name + '.xlsx')\n"
      ],
      "metadata": {
        "id": "JQodJuCMLdL1"
      },
      "execution_count": 339,
      "outputs": []
    },
    {
      "cell_type": "code",
      "source": [],
      "metadata": {
        "id": "EATDEixeWoOq"
      },
      "execution_count": null,
      "outputs": []
    }
  ]
}